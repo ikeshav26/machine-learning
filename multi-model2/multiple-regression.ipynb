{
 "cells": [
  {
   "cell_type": "code",
   "execution_count": 2,
   "id": "ba7462a8-9183-44bc-b219-5a2baf8498be",
   "metadata": {},
   "outputs": [
    {
     "name": "stdout",
     "output_type": "stream",
     "text": [
      "Requirement already satisfied: plotly-express in c:\\users\\keshav\\appdata\\local\\programs\\python\\python312\\lib\\site-packages (0.4.1)\n",
      "Requirement already satisfied: pandas>=0.20.0 in c:\\users\\keshav\\appdata\\local\\programs\\python\\python312\\lib\\site-packages (from plotly-express) (2.3.0)\n",
      "Requirement already satisfied: plotly>=4.1.0 in c:\\users\\keshav\\appdata\\local\\programs\\python\\python312\\lib\\site-packages (from plotly-express) (6.1.2)\n",
      "Requirement already satisfied: statsmodels>=0.9.0 in c:\\users\\keshav\\appdata\\local\\programs\\python\\python312\\lib\\site-packages (from plotly-express) (0.14.4)\n",
      "Requirement already satisfied: scipy>=0.18 in c:\\users\\keshav\\appdata\\local\\programs\\python\\python312\\lib\\site-packages (from plotly-express) (1.15.3)\n",
      "Requirement already satisfied: patsy>=0.5 in c:\\users\\keshav\\appdata\\local\\programs\\python\\python312\\lib\\site-packages (from plotly-express) (1.0.1)\n",
      "Requirement already satisfied: numpy>=1.11 in c:\\users\\keshav\\appdata\\local\\programs\\python\\python312\\lib\\site-packages (from plotly-express) (2.3.0)\n",
      "Requirement already satisfied: python-dateutil>=2.8.2 in c:\\users\\keshav\\appdata\\local\\programs\\python\\python312\\lib\\site-packages (from pandas>=0.20.0->plotly-express) (2.9.0.post0)\n",
      "Requirement already satisfied: pytz>=2020.1 in c:\\users\\keshav\\appdata\\local\\programs\\python\\python312\\lib\\site-packages (from pandas>=0.20.0->plotly-express) (2025.2)\n",
      "Requirement already satisfied: tzdata>=2022.7 in c:\\users\\keshav\\appdata\\local\\programs\\python\\python312\\lib\\site-packages (from pandas>=0.20.0->plotly-express) (2025.2)\n",
      "Requirement already satisfied: narwhals>=1.15.1 in c:\\users\\keshav\\appdata\\local\\programs\\python\\python312\\lib\\site-packages (from plotly>=4.1.0->plotly-express) (1.44.0)\n",
      "Requirement already satisfied: packaging in c:\\users\\keshav\\appdata\\local\\programs\\python\\python312\\lib\\site-packages (from plotly>=4.1.0->plotly-express) (25.0)\n",
      "Requirement already satisfied: six>=1.5 in c:\\users\\keshav\\appdata\\local\\programs\\python\\python312\\lib\\site-packages (from python-dateutil>=2.8.2->pandas>=0.20.0->plotly-express) (1.17.0)\n",
      "Note: you may need to restart the kernel to use updated packages.\n"
     ]
    }
   ],
   "source": [
    "pip install plotly-express"
   ]
  },
  {
   "cell_type": "code",
   "execution_count": 3,
   "id": "3c28eb81-acf5-4033-b1bc-c3050c2d0c24",
   "metadata": {},
   "outputs": [],
   "source": [
    "import numpy as np\n",
    "import pandas as pd\n",
    "import matplotlib.pyplot as plt\n"
   ]
  },
  {
   "cell_type": "code",
   "execution_count": 4,
   "id": "5b809adc-99fe-4ab4-917a-b8bd06666370",
   "metadata": {},
   "outputs": [
    {
     "data": {
      "text/html": [
       "<div>\n",
       "<style scoped>\n",
       "    .dataframe tbody tr th:only-of-type {\n",
       "        vertical-align: middle;\n",
       "    }\n",
       "\n",
       "    .dataframe tbody tr th {\n",
       "        vertical-align: top;\n",
       "    }\n",
       "\n",
       "    .dataframe thead th {\n",
       "        text-align: right;\n",
       "    }\n",
       "</style>\n",
       "<table border=\"1\" class=\"dataframe\">\n",
       "  <thead>\n",
       "    <tr style=\"text-align: right;\">\n",
       "      <th></th>\n",
       "      <th>Hours Studied</th>\n",
       "      <th>Attendance Rate (%)</th>\n",
       "      <th>Final Exam Score</th>\n",
       "    </tr>\n",
       "  </thead>\n",
       "  <tbody>\n",
       "    <tr>\n",
       "      <th>0</th>\n",
       "      <td>10.747912</td>\n",
       "      <td>99.386119</td>\n",
       "      <td>84.550973</td>\n",
       "    </tr>\n",
       "    <tr>\n",
       "      <th>1</th>\n",
       "      <td>18.397112</td>\n",
       "      <td>71.388657</td>\n",
       "      <td>88.017165</td>\n",
       "    </tr>\n",
       "    <tr>\n",
       "      <th>2</th>\n",
       "      <td>6.926920</td>\n",
       "      <td>69.216332</td>\n",
       "      <td>55.267153</td>\n",
       "    </tr>\n",
       "    <tr>\n",
       "      <th>3</th>\n",
       "      <td>6.939064</td>\n",
       "      <td>83.982364</td>\n",
       "      <td>73.519726</td>\n",
       "    </tr>\n",
       "    <tr>\n",
       "      <th>4</th>\n",
       "      <td>14.750025</td>\n",
       "      <td>60.912694</td>\n",
       "      <td>83.344138</td>\n",
       "    </tr>\n",
       "    <tr>\n",
       "      <th>...</th>\n",
       "      <td>...</td>\n",
       "      <td>...</td>\n",
       "      <td>...</td>\n",
       "    </tr>\n",
       "    <tr>\n",
       "      <th>245</th>\n",
       "      <td>5.744780</td>\n",
       "      <td>53.017604</td>\n",
       "      <td>36.674569</td>\n",
       "    </tr>\n",
       "    <tr>\n",
       "      <th>246</th>\n",
       "      <td>5.926162</td>\n",
       "      <td>62.355162</td>\n",
       "      <td>48.399938</td>\n",
       "    </tr>\n",
       "    <tr>\n",
       "      <th>247</th>\n",
       "      <td>4.672155</td>\n",
       "      <td>57.977234</td>\n",
       "      <td>38.485544</td>\n",
       "    </tr>\n",
       "    <tr>\n",
       "      <th>248</th>\n",
       "      <td>0.841864</td>\n",
       "      <td>93.589178</td>\n",
       "      <td>45.642531</td>\n",
       "    </tr>\n",
       "    <tr>\n",
       "      <th>249</th>\n",
       "      <td>0.357479</td>\n",
       "      <td>60.960699</td>\n",
       "      <td>37.733252</td>\n",
       "    </tr>\n",
       "  </tbody>\n",
       "</table>\n",
       "<p>250 rows × 3 columns</p>\n",
       "</div>"
      ],
      "text/plain": [
       "     Hours Studied  Attendance Rate (%)  Final Exam Score\n",
       "0        10.747912            99.386119         84.550973\n",
       "1        18.397112            71.388657         88.017165\n",
       "2         6.926920            69.216332         55.267153\n",
       "3         6.939064            83.982364         73.519726\n",
       "4        14.750025            60.912694         83.344138\n",
       "..             ...                  ...               ...\n",
       "245       5.744780            53.017604         36.674569\n",
       "246       5.926162            62.355162         48.399938\n",
       "247       4.672155            57.977234         38.485544\n",
       "248       0.841864            93.589178         45.642531\n",
       "249       0.357479            60.960699         37.733252\n",
       "\n",
       "[250 rows x 3 columns]"
      ]
     },
     "execution_count": 4,
     "metadata": {},
     "output_type": "execute_result"
    }
   ],
   "source": [
    "df=pd.read_csv(\"student_performance_data.csv\")\n",
    "df"
   ]
  },
  {
   "cell_type": "code",
   "execution_count": 5,
   "id": "23a0a31f-677b-457a-bba1-1e624b07a292",
   "metadata": {},
   "outputs": [
    {
     "data": {
      "application/vnd.plotly.v1+json": {
       "config": {
        "plotlyServerURL": "https://plot.ly"
       },
       "data": [
        {
         "hovertemplate": "Hours Studied=%{x}<br>Attendance Rate (%)=%{y}<br>Final Exam Score=%{z}<extra></extra>",
         "legendgroup": "",
         "marker": {
          "color": "#636efa",
          "symbol": "circle"
         },
         "mode": "markers",
         "name": "",
         "scene": "scene",
         "showlegend": false,
         "type": "scatter3d",
         "x": {
          "bdata": "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",
          "dtype": "f8"
         },
         "y": {
          "bdata": "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",
          "dtype": "f8"
         },
         "z": {
          "bdata": "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",
          "dtype": "f8"
         }
        }
       ],
       "layout": {
        "legend": {
         "tracegroupgap": 0
        },
        "margin": {
         "t": 60
        },
        "scene": {
         "domain": {
          "x": [
           0,
           1
          ],
          "y": [
           0,
           1
          ]
         },
         "xaxis": {
          "title": {
           "text": "Hours Studied"
          }
         },
         "yaxis": {
          "title": {
           "text": "Attendance Rate (%)"
          }
         },
         "zaxis": {
          "title": {
           "text": "Final Exam Score"
          }
         }
        },
        "template": {
         "data": {
          "bar": [
           {
            "error_x": {
             "color": "#2a3f5f"
            },
            "error_y": {
             "color": "#2a3f5f"
            },
            "marker": {
             "line": {
              "color": "#E5ECF6",
              "width": 0.5
             },
             "pattern": {
              "fillmode": "overlay",
              "size": 10,
              "solidity": 0.2
             }
            },
            "type": "bar"
           }
          ],
          "barpolar": [
           {
            "marker": {
             "line": {
              "color": "#E5ECF6",
              "width": 0.5
             },
             "pattern": {
              "fillmode": "overlay",
              "size": 10,
              "solidity": 0.2
             }
            },
            "type": "barpolar"
           }
          ],
          "carpet": [
           {
            "aaxis": {
             "endlinecolor": "#2a3f5f",
             "gridcolor": "white",
             "linecolor": "white",
             "minorgridcolor": "white",
             "startlinecolor": "#2a3f5f"
            },
            "baxis": {
             "endlinecolor": "#2a3f5f",
             "gridcolor": "white",
             "linecolor": "white",
             "minorgridcolor": "white",
             "startlinecolor": "#2a3f5f"
            },
            "type": "carpet"
           }
          ],
          "choropleth": [
           {
            "colorbar": {
             "outlinewidth": 0,
             "ticks": ""
            },
            "type": "choropleth"
           }
          ],
          "contour": [
           {
            "colorbar": {
             "outlinewidth": 0,
             "ticks": ""
            },
            "colorscale": [
             [
              0,
              "#0d0887"
             ],
             [
              0.1111111111111111,
              "#46039f"
             ],
             [
              0.2222222222222222,
              "#7201a8"
             ],
             [
              0.3333333333333333,
              "#9c179e"
             ],
             [
              0.4444444444444444,
              "#bd3786"
             ],
             [
              0.5555555555555556,
              "#d8576b"
             ],
             [
              0.6666666666666666,
              "#ed7953"
             ],
             [
              0.7777777777777778,
              "#fb9f3a"
             ],
             [
              0.8888888888888888,
              "#fdca26"
             ],
             [
              1,
              "#f0f921"
             ]
            ],
            "type": "contour"
           }
          ],
          "contourcarpet": [
           {
            "colorbar": {
             "outlinewidth": 0,
             "ticks": ""
            },
            "type": "contourcarpet"
           }
          ],
          "heatmap": [
           {
            "colorbar": {
             "outlinewidth": 0,
             "ticks": ""
            },
            "colorscale": [
             [
              0,
              "#0d0887"
             ],
             [
              0.1111111111111111,
              "#46039f"
             ],
             [
              0.2222222222222222,
              "#7201a8"
             ],
             [
              0.3333333333333333,
              "#9c179e"
             ],
             [
              0.4444444444444444,
              "#bd3786"
             ],
             [
              0.5555555555555556,
              "#d8576b"
             ],
             [
              0.6666666666666666,
              "#ed7953"
             ],
             [
              0.7777777777777778,
              "#fb9f3a"
             ],
             [
              0.8888888888888888,
              "#fdca26"
             ],
             [
              1,
              "#f0f921"
             ]
            ],
            "type": "heatmap"
           }
          ],
          "histogram": [
           {
            "marker": {
             "pattern": {
              "fillmode": "overlay",
              "size": 10,
              "solidity": 0.2
             }
            },
            "type": "histogram"
           }
          ],
          "histogram2d": [
           {
            "colorbar": {
             "outlinewidth": 0,
             "ticks": ""
            },
            "colorscale": [
             [
              0,
              "#0d0887"
             ],
             [
              0.1111111111111111,
              "#46039f"
             ],
             [
              0.2222222222222222,
              "#7201a8"
             ],
             [
              0.3333333333333333,
              "#9c179e"
             ],
             [
              0.4444444444444444,
              "#bd3786"
             ],
             [
              0.5555555555555556,
              "#d8576b"
             ],
             [
              0.6666666666666666,
              "#ed7953"
             ],
             [
              0.7777777777777778,
              "#fb9f3a"
             ],
             [
              0.8888888888888888,
              "#fdca26"
             ],
             [
              1,
              "#f0f921"
             ]
            ],
            "type": "histogram2d"
           }
          ],
          "histogram2dcontour": [
           {
            "colorbar": {
             "outlinewidth": 0,
             "ticks": ""
            },
            "colorscale": [
             [
              0,
              "#0d0887"
             ],
             [
              0.1111111111111111,
              "#46039f"
             ],
             [
              0.2222222222222222,
              "#7201a8"
             ],
             [
              0.3333333333333333,
              "#9c179e"
             ],
             [
              0.4444444444444444,
              "#bd3786"
             ],
             [
              0.5555555555555556,
              "#d8576b"
             ],
             [
              0.6666666666666666,
              "#ed7953"
             ],
             [
              0.7777777777777778,
              "#fb9f3a"
             ],
             [
              0.8888888888888888,
              "#fdca26"
             ],
             [
              1,
              "#f0f921"
             ]
            ],
            "type": "histogram2dcontour"
           }
          ],
          "mesh3d": [
           {
            "colorbar": {
             "outlinewidth": 0,
             "ticks": ""
            },
            "type": "mesh3d"
           }
          ],
          "parcoords": [
           {
            "line": {
             "colorbar": {
              "outlinewidth": 0,
              "ticks": ""
             }
            },
            "type": "parcoords"
           }
          ],
          "pie": [
           {
            "automargin": true,
            "type": "pie"
           }
          ],
          "scatter": [
           {
            "fillpattern": {
             "fillmode": "overlay",
             "size": 10,
             "solidity": 0.2
            },
            "type": "scatter"
           }
          ],
          "scatter3d": [
           {
            "line": {
             "colorbar": {
              "outlinewidth": 0,
              "ticks": ""
             }
            },
            "marker": {
             "colorbar": {
              "outlinewidth": 0,
              "ticks": ""
             }
            },
            "type": "scatter3d"
           }
          ],
          "scattercarpet": [
           {
            "marker": {
             "colorbar": {
              "outlinewidth": 0,
              "ticks": ""
             }
            },
            "type": "scattercarpet"
           }
          ],
          "scattergeo": [
           {
            "marker": {
             "colorbar": {
              "outlinewidth": 0,
              "ticks": ""
             }
            },
            "type": "scattergeo"
           }
          ],
          "scattergl": [
           {
            "marker": {
             "colorbar": {
              "outlinewidth": 0,
              "ticks": ""
             }
            },
            "type": "scattergl"
           }
          ],
          "scattermap": [
           {
            "marker": {
             "colorbar": {
              "outlinewidth": 0,
              "ticks": ""
             }
            },
            "type": "scattermap"
           }
          ],
          "scattermapbox": [
           {
            "marker": {
             "colorbar": {
              "outlinewidth": 0,
              "ticks": ""
             }
            },
            "type": "scattermapbox"
           }
          ],
          "scatterpolar": [
           {
            "marker": {
             "colorbar": {
              "outlinewidth": 0,
              "ticks": ""
             }
            },
            "type": "scatterpolar"
           }
          ],
          "scatterpolargl": [
           {
            "marker": {
             "colorbar": {
              "outlinewidth": 0,
              "ticks": ""
             }
            },
            "type": "scatterpolargl"
           }
          ],
          "scatterternary": [
           {
            "marker": {
             "colorbar": {
              "outlinewidth": 0,
              "ticks": ""
             }
            },
            "type": "scatterternary"
           }
          ],
          "surface": [
           {
            "colorbar": {
             "outlinewidth": 0,
             "ticks": ""
            },
            "colorscale": [
             [
              0,
              "#0d0887"
             ],
             [
              0.1111111111111111,
              "#46039f"
             ],
             [
              0.2222222222222222,
              "#7201a8"
             ],
             [
              0.3333333333333333,
              "#9c179e"
             ],
             [
              0.4444444444444444,
              "#bd3786"
             ],
             [
              0.5555555555555556,
              "#d8576b"
             ],
             [
              0.6666666666666666,
              "#ed7953"
             ],
             [
              0.7777777777777778,
              "#fb9f3a"
             ],
             [
              0.8888888888888888,
              "#fdca26"
             ],
             [
              1,
              "#f0f921"
             ]
            ],
            "type": "surface"
           }
          ],
          "table": [
           {
            "cells": {
             "fill": {
              "color": "#EBF0F8"
             },
             "line": {
              "color": "white"
             }
            },
            "header": {
             "fill": {
              "color": "#C8D4E3"
             },
             "line": {
              "color": "white"
             }
            },
            "type": "table"
           }
          ]
         },
         "layout": {
          "annotationdefaults": {
           "arrowcolor": "#2a3f5f",
           "arrowhead": 0,
           "arrowwidth": 1
          },
          "autotypenumbers": "strict",
          "coloraxis": {
           "colorbar": {
            "outlinewidth": 0,
            "ticks": ""
           }
          },
          "colorscale": {
           "diverging": [
            [
             0,
             "#8e0152"
            ],
            [
             0.1,
             "#c51b7d"
            ],
            [
             0.2,
             "#de77ae"
            ],
            [
             0.3,
             "#f1b6da"
            ],
            [
             0.4,
             "#fde0ef"
            ],
            [
             0.5,
             "#f7f7f7"
            ],
            [
             0.6,
             "#e6f5d0"
            ],
            [
             0.7,
             "#b8e186"
            ],
            [
             0.8,
             "#7fbc41"
            ],
            [
             0.9,
             "#4d9221"
            ],
            [
             1,
             "#276419"
            ]
           ],
           "sequential": [
            [
             0,
             "#0d0887"
            ],
            [
             0.1111111111111111,
             "#46039f"
            ],
            [
             0.2222222222222222,
             "#7201a8"
            ],
            [
             0.3333333333333333,
             "#9c179e"
            ],
            [
             0.4444444444444444,
             "#bd3786"
            ],
            [
             0.5555555555555556,
             "#d8576b"
            ],
            [
             0.6666666666666666,
             "#ed7953"
            ],
            [
             0.7777777777777778,
             "#fb9f3a"
            ],
            [
             0.8888888888888888,
             "#fdca26"
            ],
            [
             1,
             "#f0f921"
            ]
           ],
           "sequentialminus": [
            [
             0,
             "#0d0887"
            ],
            [
             0.1111111111111111,
             "#46039f"
            ],
            [
             0.2222222222222222,
             "#7201a8"
            ],
            [
             0.3333333333333333,
             "#9c179e"
            ],
            [
             0.4444444444444444,
             "#bd3786"
            ],
            [
             0.5555555555555556,
             "#d8576b"
            ],
            [
             0.6666666666666666,
             "#ed7953"
            ],
            [
             0.7777777777777778,
             "#fb9f3a"
            ],
            [
             0.8888888888888888,
             "#fdca26"
            ],
            [
             1,
             "#f0f921"
            ]
           ]
          },
          "colorway": [
           "#636efa",
           "#EF553B",
           "#00cc96",
           "#ab63fa",
           "#FFA15A",
           "#19d3f3",
           "#FF6692",
           "#B6E880",
           "#FF97FF",
           "#FECB52"
          ],
          "font": {
           "color": "#2a3f5f"
          },
          "geo": {
           "bgcolor": "white",
           "lakecolor": "white",
           "landcolor": "#E5ECF6",
           "showlakes": true,
           "showland": true,
           "subunitcolor": "white"
          },
          "hoverlabel": {
           "align": "left"
          },
          "hovermode": "closest",
          "mapbox": {
           "style": "light"
          },
          "paper_bgcolor": "white",
          "plot_bgcolor": "#E5ECF6",
          "polar": {
           "angularaxis": {
            "gridcolor": "white",
            "linecolor": "white",
            "ticks": ""
           },
           "bgcolor": "#E5ECF6",
           "radialaxis": {
            "gridcolor": "white",
            "linecolor": "white",
            "ticks": ""
           }
          },
          "scene": {
           "xaxis": {
            "backgroundcolor": "#E5ECF6",
            "gridcolor": "white",
            "gridwidth": 2,
            "linecolor": "white",
            "showbackground": true,
            "ticks": "",
            "zerolinecolor": "white"
           },
           "yaxis": {
            "backgroundcolor": "#E5ECF6",
            "gridcolor": "white",
            "gridwidth": 2,
            "linecolor": "white",
            "showbackground": true,
            "ticks": "",
            "zerolinecolor": "white"
           },
           "zaxis": {
            "backgroundcolor": "#E5ECF6",
            "gridcolor": "white",
            "gridwidth": 2,
            "linecolor": "white",
            "showbackground": true,
            "ticks": "",
            "zerolinecolor": "white"
           }
          },
          "shapedefaults": {
           "line": {
            "color": "#2a3f5f"
           }
          },
          "ternary": {
           "aaxis": {
            "gridcolor": "white",
            "linecolor": "white",
            "ticks": ""
           },
           "baxis": {
            "gridcolor": "white",
            "linecolor": "white",
            "ticks": ""
           },
           "bgcolor": "#E5ECF6",
           "caxis": {
            "gridcolor": "white",
            "linecolor": "white",
            "ticks": ""
           }
          },
          "title": {
           "x": 0.05
          },
          "xaxis": {
           "automargin": true,
           "gridcolor": "white",
           "linecolor": "white",
           "ticks": "",
           "title": {
            "standoff": 15
           },
           "zerolinecolor": "white",
           "zerolinewidth": 2
          },
          "yaxis": {
           "automargin": true,
           "gridcolor": "white",
           "linecolor": "white",
           "ticks": "",
           "title": {
            "standoff": 15
           },
           "zerolinecolor": "white",
           "zerolinewidth": 2
          }
         }
        }
       }
      }
     },
     "metadata": {},
     "output_type": "display_data"
    }
   ],
   "source": [
    "import plotly.express as ex\n",
    "ex.scatter_3d(df,x=\"Hours Studied\",y=\"Attendance Rate (%)\",z=\"Final Exam Score\")"
   ]
  },
  {
   "cell_type": "code",
   "execution_count": 6,
   "id": "82cc951c-f47d-4ac9-bd35-99aba6ecdbc3",
   "metadata": {},
   "outputs": [],
   "source": [
    "x=df.iloc[:,0:2]\n",
    "y=df.iloc[:,-1]"
   ]
  },
  {
   "cell_type": "code",
   "execution_count": 7,
   "id": "74116887-a11c-49fd-a720-a813f154d04d",
   "metadata": {},
   "outputs": [],
   "source": [
    "from sklearn.model_selection import train_test_split\n",
    "x_train,x_test,y_train,y_test=train_test_split(x,y,test_size=0.2,random_state=42)"
   ]
  },
  {
   "cell_type": "code",
   "execution_count": 8,
   "id": "22dbd996-517e-4339-9f83-e9fcb4172f9b",
   "metadata": {},
   "outputs": [
    {
     "name": "stdout",
     "output_type": "stream",
     "text": [
      "<class 'pandas.core.frame.DataFrame'>\n",
      "Index: 200 entries, 132 to 102\n",
      "Data columns (total 2 columns):\n",
      " #   Column               Non-Null Count  Dtype  \n",
      "---  ------               --------------  -----  \n",
      " 0   Hours Studied        200 non-null    float64\n",
      " 1   Attendance Rate (%)  200 non-null    float64\n",
      "dtypes: float64(2)\n",
      "memory usage: 4.7 KB\n"
     ]
    }
   ],
   "source": [
    "x_train.info()"
   ]
  },
  {
   "cell_type": "code",
   "execution_count": 9,
   "id": "6a2667c3-593d-4fe1-9ce9-6c86ab0c5f9d",
   "metadata": {},
   "outputs": [
    {
     "name": "stdout",
     "output_type": "stream",
     "text": [
      "<class 'pandas.core.series.Series'>\n",
      "Index: 200 entries, 132 to 102\n",
      "Series name: Final Exam Score\n",
      "Non-Null Count  Dtype  \n",
      "--------------  -----  \n",
      "200 non-null    float64\n",
      "dtypes: float64(1)\n",
      "memory usage: 3.1 KB\n"
     ]
    }
   ],
   "source": [
    "y_train.info()"
   ]
  },
  {
   "cell_type": "code",
   "execution_count": 10,
   "id": "c64904fa-6ed7-45a6-bd24-0c34fcef882d",
   "metadata": {},
   "outputs": [
    {
     "data": {
      "text/html": [
       "<style>#sk-container-id-1 {\n",
       "  /* Definition of color scheme common for light and dark mode */\n",
       "  --sklearn-color-text: #000;\n",
       "  --sklearn-color-text-muted: #666;\n",
       "  --sklearn-color-line: gray;\n",
       "  /* Definition of color scheme for unfitted estimators */\n",
       "  --sklearn-color-unfitted-level-0: #fff5e6;\n",
       "  --sklearn-color-unfitted-level-1: #f6e4d2;\n",
       "  --sklearn-color-unfitted-level-2: #ffe0b3;\n",
       "  --sklearn-color-unfitted-level-3: chocolate;\n",
       "  /* Definition of color scheme for fitted estimators */\n",
       "  --sklearn-color-fitted-level-0: #f0f8ff;\n",
       "  --sklearn-color-fitted-level-1: #d4ebff;\n",
       "  --sklearn-color-fitted-level-2: #b3dbfd;\n",
       "  --sklearn-color-fitted-level-3: cornflowerblue;\n",
       "\n",
       "  /* Specific color for light theme */\n",
       "  --sklearn-color-text-on-default-background: var(--sg-text-color, var(--theme-code-foreground, var(--jp-content-font-color1, black)));\n",
       "  --sklearn-color-background: var(--sg-background-color, var(--theme-background, var(--jp-layout-color0, white)));\n",
       "  --sklearn-color-border-box: var(--sg-text-color, var(--theme-code-foreground, var(--jp-content-font-color1, black)));\n",
       "  --sklearn-color-icon: #696969;\n",
       "\n",
       "  @media (prefers-color-scheme: dark) {\n",
       "    /* Redefinition of color scheme for dark theme */\n",
       "    --sklearn-color-text-on-default-background: var(--sg-text-color, var(--theme-code-foreground, var(--jp-content-font-color1, white)));\n",
       "    --sklearn-color-background: var(--sg-background-color, var(--theme-background, var(--jp-layout-color0, #111)));\n",
       "    --sklearn-color-border-box: var(--sg-text-color, var(--theme-code-foreground, var(--jp-content-font-color1, white)));\n",
       "    --sklearn-color-icon: #878787;\n",
       "  }\n",
       "}\n",
       "\n",
       "#sk-container-id-1 {\n",
       "  color: var(--sklearn-color-text);\n",
       "}\n",
       "\n",
       "#sk-container-id-1 pre {\n",
       "  padding: 0;\n",
       "}\n",
       "\n",
       "#sk-container-id-1 input.sk-hidden--visually {\n",
       "  border: 0;\n",
       "  clip: rect(1px 1px 1px 1px);\n",
       "  clip: rect(1px, 1px, 1px, 1px);\n",
       "  height: 1px;\n",
       "  margin: -1px;\n",
       "  overflow: hidden;\n",
       "  padding: 0;\n",
       "  position: absolute;\n",
       "  width: 1px;\n",
       "}\n",
       "\n",
       "#sk-container-id-1 div.sk-dashed-wrapped {\n",
       "  border: 1px dashed var(--sklearn-color-line);\n",
       "  margin: 0 0.4em 0.5em 0.4em;\n",
       "  box-sizing: border-box;\n",
       "  padding-bottom: 0.4em;\n",
       "  background-color: var(--sklearn-color-background);\n",
       "}\n",
       "\n",
       "#sk-container-id-1 div.sk-container {\n",
       "  /* jupyter's `normalize.less` sets `[hidden] { display: none; }`\n",
       "     but bootstrap.min.css set `[hidden] { display: none !important; }`\n",
       "     so we also need the `!important` here to be able to override the\n",
       "     default hidden behavior on the sphinx rendered scikit-learn.org.\n",
       "     See: https://github.com/scikit-learn/scikit-learn/issues/21755 */\n",
       "  display: inline-block !important;\n",
       "  position: relative;\n",
       "}\n",
       "\n",
       "#sk-container-id-1 div.sk-text-repr-fallback {\n",
       "  display: none;\n",
       "}\n",
       "\n",
       "div.sk-parallel-item,\n",
       "div.sk-serial,\n",
       "div.sk-item {\n",
       "  /* draw centered vertical line to link estimators */\n",
       "  background-image: linear-gradient(var(--sklearn-color-text-on-default-background), var(--sklearn-color-text-on-default-background));\n",
       "  background-size: 2px 100%;\n",
       "  background-repeat: no-repeat;\n",
       "  background-position: center center;\n",
       "}\n",
       "\n",
       "/* Parallel-specific style estimator block */\n",
       "\n",
       "#sk-container-id-1 div.sk-parallel-item::after {\n",
       "  content: \"\";\n",
       "  width: 100%;\n",
       "  border-bottom: 2px solid var(--sklearn-color-text-on-default-background);\n",
       "  flex-grow: 1;\n",
       "}\n",
       "\n",
       "#sk-container-id-1 div.sk-parallel {\n",
       "  display: flex;\n",
       "  align-items: stretch;\n",
       "  justify-content: center;\n",
       "  background-color: var(--sklearn-color-background);\n",
       "  position: relative;\n",
       "}\n",
       "\n",
       "#sk-container-id-1 div.sk-parallel-item {\n",
       "  display: flex;\n",
       "  flex-direction: column;\n",
       "}\n",
       "\n",
       "#sk-container-id-1 div.sk-parallel-item:first-child::after {\n",
       "  align-self: flex-end;\n",
       "  width: 50%;\n",
       "}\n",
       "\n",
       "#sk-container-id-1 div.sk-parallel-item:last-child::after {\n",
       "  align-self: flex-start;\n",
       "  width: 50%;\n",
       "}\n",
       "\n",
       "#sk-container-id-1 div.sk-parallel-item:only-child::after {\n",
       "  width: 0;\n",
       "}\n",
       "\n",
       "/* Serial-specific style estimator block */\n",
       "\n",
       "#sk-container-id-1 div.sk-serial {\n",
       "  display: flex;\n",
       "  flex-direction: column;\n",
       "  align-items: center;\n",
       "  background-color: var(--sklearn-color-background);\n",
       "  padding-right: 1em;\n",
       "  padding-left: 1em;\n",
       "}\n",
       "\n",
       "\n",
       "/* Toggleable style: style used for estimator/Pipeline/ColumnTransformer box that is\n",
       "clickable and can be expanded/collapsed.\n",
       "- Pipeline and ColumnTransformer use this feature and define the default style\n",
       "- Estimators will overwrite some part of the style using the `sk-estimator` class\n",
       "*/\n",
       "\n",
       "/* Pipeline and ColumnTransformer style (default) */\n",
       "\n",
       "#sk-container-id-1 div.sk-toggleable {\n",
       "  /* Default theme specific background. It is overwritten whether we have a\n",
       "  specific estimator or a Pipeline/ColumnTransformer */\n",
       "  background-color: var(--sklearn-color-background);\n",
       "}\n",
       "\n",
       "/* Toggleable label */\n",
       "#sk-container-id-1 label.sk-toggleable__label {\n",
       "  cursor: pointer;\n",
       "  display: flex;\n",
       "  width: 100%;\n",
       "  margin-bottom: 0;\n",
       "  padding: 0.5em;\n",
       "  box-sizing: border-box;\n",
       "  text-align: center;\n",
       "  align-items: start;\n",
       "  justify-content: space-between;\n",
       "  gap: 0.5em;\n",
       "}\n",
       "\n",
       "#sk-container-id-1 label.sk-toggleable__label .caption {\n",
       "  font-size: 0.6rem;\n",
       "  font-weight: lighter;\n",
       "  color: var(--sklearn-color-text-muted);\n",
       "}\n",
       "\n",
       "#sk-container-id-1 label.sk-toggleable__label-arrow:before {\n",
       "  /* Arrow on the left of the label */\n",
       "  content: \"▸\";\n",
       "  float: left;\n",
       "  margin-right: 0.25em;\n",
       "  color: var(--sklearn-color-icon);\n",
       "}\n",
       "\n",
       "#sk-container-id-1 label.sk-toggleable__label-arrow:hover:before {\n",
       "  color: var(--sklearn-color-text);\n",
       "}\n",
       "\n",
       "/* Toggleable content - dropdown */\n",
       "\n",
       "#sk-container-id-1 div.sk-toggleable__content {\n",
       "  display: none;\n",
       "  text-align: left;\n",
       "  /* unfitted */\n",
       "  background-color: var(--sklearn-color-unfitted-level-0);\n",
       "}\n",
       "\n",
       "#sk-container-id-1 div.sk-toggleable__content.fitted {\n",
       "  /* fitted */\n",
       "  background-color: var(--sklearn-color-fitted-level-0);\n",
       "}\n",
       "\n",
       "#sk-container-id-1 div.sk-toggleable__content pre {\n",
       "  margin: 0.2em;\n",
       "  border-radius: 0.25em;\n",
       "  color: var(--sklearn-color-text);\n",
       "  /* unfitted */\n",
       "  background-color: var(--sklearn-color-unfitted-level-0);\n",
       "}\n",
       "\n",
       "#sk-container-id-1 div.sk-toggleable__content.fitted pre {\n",
       "  /* unfitted */\n",
       "  background-color: var(--sklearn-color-fitted-level-0);\n",
       "}\n",
       "\n",
       "#sk-container-id-1 input.sk-toggleable__control:checked~div.sk-toggleable__content {\n",
       "  /* Expand drop-down */\n",
       "  display: block;\n",
       "  width: 100%;\n",
       "  overflow: visible;\n",
       "}\n",
       "\n",
       "#sk-container-id-1 input.sk-toggleable__control:checked~label.sk-toggleable__label-arrow:before {\n",
       "  content: \"▾\";\n",
       "}\n",
       "\n",
       "/* Pipeline/ColumnTransformer-specific style */\n",
       "\n",
       "#sk-container-id-1 div.sk-label input.sk-toggleable__control:checked~label.sk-toggleable__label {\n",
       "  color: var(--sklearn-color-text);\n",
       "  background-color: var(--sklearn-color-unfitted-level-2);\n",
       "}\n",
       "\n",
       "#sk-container-id-1 div.sk-label.fitted input.sk-toggleable__control:checked~label.sk-toggleable__label {\n",
       "  background-color: var(--sklearn-color-fitted-level-2);\n",
       "}\n",
       "\n",
       "/* Estimator-specific style */\n",
       "\n",
       "/* Colorize estimator box */\n",
       "#sk-container-id-1 div.sk-estimator input.sk-toggleable__control:checked~label.sk-toggleable__label {\n",
       "  /* unfitted */\n",
       "  background-color: var(--sklearn-color-unfitted-level-2);\n",
       "}\n",
       "\n",
       "#sk-container-id-1 div.sk-estimator.fitted input.sk-toggleable__control:checked~label.sk-toggleable__label {\n",
       "  /* fitted */\n",
       "  background-color: var(--sklearn-color-fitted-level-2);\n",
       "}\n",
       "\n",
       "#sk-container-id-1 div.sk-label label.sk-toggleable__label,\n",
       "#sk-container-id-1 div.sk-label label {\n",
       "  /* The background is the default theme color */\n",
       "  color: var(--sklearn-color-text-on-default-background);\n",
       "}\n",
       "\n",
       "/* On hover, darken the color of the background */\n",
       "#sk-container-id-1 div.sk-label:hover label.sk-toggleable__label {\n",
       "  color: var(--sklearn-color-text);\n",
       "  background-color: var(--sklearn-color-unfitted-level-2);\n",
       "}\n",
       "\n",
       "/* Label box, darken color on hover, fitted */\n",
       "#sk-container-id-1 div.sk-label.fitted:hover label.sk-toggleable__label.fitted {\n",
       "  color: var(--sklearn-color-text);\n",
       "  background-color: var(--sklearn-color-fitted-level-2);\n",
       "}\n",
       "\n",
       "/* Estimator label */\n",
       "\n",
       "#sk-container-id-1 div.sk-label label {\n",
       "  font-family: monospace;\n",
       "  font-weight: bold;\n",
       "  display: inline-block;\n",
       "  line-height: 1.2em;\n",
       "}\n",
       "\n",
       "#sk-container-id-1 div.sk-label-container {\n",
       "  text-align: center;\n",
       "}\n",
       "\n",
       "/* Estimator-specific */\n",
       "#sk-container-id-1 div.sk-estimator {\n",
       "  font-family: monospace;\n",
       "  border: 1px dotted var(--sklearn-color-border-box);\n",
       "  border-radius: 0.25em;\n",
       "  box-sizing: border-box;\n",
       "  margin-bottom: 0.5em;\n",
       "  /* unfitted */\n",
       "  background-color: var(--sklearn-color-unfitted-level-0);\n",
       "}\n",
       "\n",
       "#sk-container-id-1 div.sk-estimator.fitted {\n",
       "  /* fitted */\n",
       "  background-color: var(--sklearn-color-fitted-level-0);\n",
       "}\n",
       "\n",
       "/* on hover */\n",
       "#sk-container-id-1 div.sk-estimator:hover {\n",
       "  /* unfitted */\n",
       "  background-color: var(--sklearn-color-unfitted-level-2);\n",
       "}\n",
       "\n",
       "#sk-container-id-1 div.sk-estimator.fitted:hover {\n",
       "  /* fitted */\n",
       "  background-color: var(--sklearn-color-fitted-level-2);\n",
       "}\n",
       "\n",
       "/* Specification for estimator info (e.g. \"i\" and \"?\") */\n",
       "\n",
       "/* Common style for \"i\" and \"?\" */\n",
       "\n",
       ".sk-estimator-doc-link,\n",
       "a:link.sk-estimator-doc-link,\n",
       "a:visited.sk-estimator-doc-link {\n",
       "  float: right;\n",
       "  font-size: smaller;\n",
       "  line-height: 1em;\n",
       "  font-family: monospace;\n",
       "  background-color: var(--sklearn-color-background);\n",
       "  border-radius: 1em;\n",
       "  height: 1em;\n",
       "  width: 1em;\n",
       "  text-decoration: none !important;\n",
       "  margin-left: 0.5em;\n",
       "  text-align: center;\n",
       "  /* unfitted */\n",
       "  border: var(--sklearn-color-unfitted-level-1) 1pt solid;\n",
       "  color: var(--sklearn-color-unfitted-level-1);\n",
       "}\n",
       "\n",
       ".sk-estimator-doc-link.fitted,\n",
       "a:link.sk-estimator-doc-link.fitted,\n",
       "a:visited.sk-estimator-doc-link.fitted {\n",
       "  /* fitted */\n",
       "  border: var(--sklearn-color-fitted-level-1) 1pt solid;\n",
       "  color: var(--sklearn-color-fitted-level-1);\n",
       "}\n",
       "\n",
       "/* On hover */\n",
       "div.sk-estimator:hover .sk-estimator-doc-link:hover,\n",
       ".sk-estimator-doc-link:hover,\n",
       "div.sk-label-container:hover .sk-estimator-doc-link:hover,\n",
       ".sk-estimator-doc-link:hover {\n",
       "  /* unfitted */\n",
       "  background-color: var(--sklearn-color-unfitted-level-3);\n",
       "  color: var(--sklearn-color-background);\n",
       "  text-decoration: none;\n",
       "}\n",
       "\n",
       "div.sk-estimator.fitted:hover .sk-estimator-doc-link.fitted:hover,\n",
       ".sk-estimator-doc-link.fitted:hover,\n",
       "div.sk-label-container:hover .sk-estimator-doc-link.fitted:hover,\n",
       ".sk-estimator-doc-link.fitted:hover {\n",
       "  /* fitted */\n",
       "  background-color: var(--sklearn-color-fitted-level-3);\n",
       "  color: var(--sklearn-color-background);\n",
       "  text-decoration: none;\n",
       "}\n",
       "\n",
       "/* Span, style for the box shown on hovering the info icon */\n",
       ".sk-estimator-doc-link span {\n",
       "  display: none;\n",
       "  z-index: 9999;\n",
       "  position: relative;\n",
       "  font-weight: normal;\n",
       "  right: .2ex;\n",
       "  padding: .5ex;\n",
       "  margin: .5ex;\n",
       "  width: min-content;\n",
       "  min-width: 20ex;\n",
       "  max-width: 50ex;\n",
       "  color: var(--sklearn-color-text);\n",
       "  box-shadow: 2pt 2pt 4pt #999;\n",
       "  /* unfitted */\n",
       "  background: var(--sklearn-color-unfitted-level-0);\n",
       "  border: .5pt solid var(--sklearn-color-unfitted-level-3);\n",
       "}\n",
       "\n",
       ".sk-estimator-doc-link.fitted span {\n",
       "  /* fitted */\n",
       "  background: var(--sklearn-color-fitted-level-0);\n",
       "  border: var(--sklearn-color-fitted-level-3);\n",
       "}\n",
       "\n",
       ".sk-estimator-doc-link:hover span {\n",
       "  display: block;\n",
       "}\n",
       "\n",
       "/* \"?\"-specific style due to the `<a>` HTML tag */\n",
       "\n",
       "#sk-container-id-1 a.estimator_doc_link {\n",
       "  float: right;\n",
       "  font-size: 1rem;\n",
       "  line-height: 1em;\n",
       "  font-family: monospace;\n",
       "  background-color: var(--sklearn-color-background);\n",
       "  border-radius: 1rem;\n",
       "  height: 1rem;\n",
       "  width: 1rem;\n",
       "  text-decoration: none;\n",
       "  /* unfitted */\n",
       "  color: var(--sklearn-color-unfitted-level-1);\n",
       "  border: var(--sklearn-color-unfitted-level-1) 1pt solid;\n",
       "}\n",
       "\n",
       "#sk-container-id-1 a.estimator_doc_link.fitted {\n",
       "  /* fitted */\n",
       "  border: var(--sklearn-color-fitted-level-1) 1pt solid;\n",
       "  color: var(--sklearn-color-fitted-level-1);\n",
       "}\n",
       "\n",
       "/* On hover */\n",
       "#sk-container-id-1 a.estimator_doc_link:hover {\n",
       "  /* unfitted */\n",
       "  background-color: var(--sklearn-color-unfitted-level-3);\n",
       "  color: var(--sklearn-color-background);\n",
       "  text-decoration: none;\n",
       "}\n",
       "\n",
       "#sk-container-id-1 a.estimator_doc_link.fitted:hover {\n",
       "  /* fitted */\n",
       "  background-color: var(--sklearn-color-fitted-level-3);\n",
       "}\n",
       "\n",
       ".estimator-table summary {\n",
       "    padding: .5rem;\n",
       "    font-family: monospace;\n",
       "    cursor: pointer;\n",
       "}\n",
       "\n",
       ".estimator-table details[open] {\n",
       "    padding-left: 0.1rem;\n",
       "    padding-right: 0.1rem;\n",
       "    padding-bottom: 0.3rem;\n",
       "}\n",
       "\n",
       ".estimator-table .parameters-table {\n",
       "    margin-left: auto !important;\n",
       "    margin-right: auto !important;\n",
       "}\n",
       "\n",
       ".estimator-table .parameters-table tr:nth-child(odd) {\n",
       "    background-color: #fff;\n",
       "}\n",
       "\n",
       ".estimator-table .parameters-table tr:nth-child(even) {\n",
       "    background-color: #f6f6f6;\n",
       "}\n",
       "\n",
       ".estimator-table .parameters-table tr:hover {\n",
       "    background-color: #e0e0e0;\n",
       "}\n",
       "\n",
       ".estimator-table table td {\n",
       "    border: 1px solid rgba(106, 105, 104, 0.232);\n",
       "}\n",
       "\n",
       ".user-set td {\n",
       "    color:rgb(255, 94, 0);\n",
       "    text-align: left;\n",
       "}\n",
       "\n",
       ".user-set td.value pre {\n",
       "    color:rgb(255, 94, 0) !important;\n",
       "    background-color: transparent !important;\n",
       "}\n",
       "\n",
       ".default td {\n",
       "    color: black;\n",
       "    text-align: left;\n",
       "}\n",
       "\n",
       ".user-set td i,\n",
       ".default td i {\n",
       "    color: black;\n",
       "}\n",
       "\n",
       ".copy-paste-icon {\n",
       "    background-image: url(data:image/svg+xml;base64,PHN2ZyB4bWxucz0iaHR0cDovL3d3dy53My5vcmcvMjAwMC9zdmciIHZpZXdCb3g9IjAgMCA0NDggNTEyIj48IS0tIUZvbnQgQXdlc29tZSBGcmVlIDYuNy4yIGJ5IEBmb250YXdlc29tZSAtIGh0dHBzOi8vZm9udGF3ZXNvbWUuY29tIExpY2Vuc2UgLSBodHRwczovL2ZvbnRhd2Vzb21lLmNvbS9saWNlbnNlL2ZyZWUgQ29weXJpZ2h0IDIwMjUgRm9udGljb25zLCBJbmMuLS0+PHBhdGggZD0iTTIwOCAwTDMzMi4xIDBjMTIuNyAwIDI0LjkgNS4xIDMzLjkgMTQuMWw2Ny45IDY3LjljOSA5IDE0LjEgMjEuMiAxNC4xIDMzLjlMNDQ4IDMzNmMwIDI2LjUtMjEuNSA0OC00OCA0OGwtMTkyIDBjLTI2LjUgMC00OC0yMS41LTQ4LTQ4bDAtMjg4YzAtMjYuNSAyMS41LTQ4IDQ4LTQ4ek00OCAxMjhsODAgMCAwIDY0LTY0IDAgMCAyNTYgMTkyIDAgMC0zMiA2NCAwIDAgNDhjMCAyNi41LTIxLjUgNDgtNDggNDhMNDggNTEyYy0yNi41IDAtNDgtMjEuNS00OC00OEwwIDE3NmMwLTI2LjUgMjEuNS00OCA0OC00OHoiLz48L3N2Zz4=);\n",
       "    background-repeat: no-repeat;\n",
       "    background-size: 14px 14px;\n",
       "    background-position: 0;\n",
       "    display: inline-block;\n",
       "    width: 14px;\n",
       "    height: 14px;\n",
       "    cursor: pointer;\n",
       "}\n",
       "</style><body><div id=\"sk-container-id-1\" class=\"sk-top-container\"><div class=\"sk-text-repr-fallback\"><pre>LinearRegression()</pre><b>In a Jupyter environment, please rerun this cell to show the HTML representation or trust the notebook. <br />On GitHub, the HTML representation is unable to render, please try loading this page with nbviewer.org.</b></div><div class=\"sk-container\" hidden><div class=\"sk-item\"><div class=\"sk-estimator fitted sk-toggleable\"><input class=\"sk-toggleable__control sk-hidden--visually\" id=\"sk-estimator-id-1\" type=\"checkbox\" checked><label for=\"sk-estimator-id-1\" class=\"sk-toggleable__label fitted sk-toggleable__label-arrow\"><div><div>LinearRegression</div></div><div><a class=\"sk-estimator-doc-link fitted\" rel=\"noreferrer\" target=\"_blank\" href=\"https://scikit-learn.org/1.7/modules/generated/sklearn.linear_model.LinearRegression.html\">?<span>Documentation for LinearRegression</span></a><span class=\"sk-estimator-doc-link fitted\">i<span>Fitted</span></span></div></label><div class=\"sk-toggleable__content fitted\" data-param-prefix=\"\">\n",
       "        <div class=\"estimator-table\">\n",
       "            <details>\n",
       "                <summary>Parameters</summary>\n",
       "                <table class=\"parameters-table\">\n",
       "                  <tbody>\n",
       "                    \n",
       "        <tr class=\"default\">\n",
       "            <td><i class=\"copy-paste-icon\"\n",
       "                 onclick=\"copyToClipboard('fit_intercept',\n",
       "                          this.parentElement.nextElementSibling)\"\n",
       "            ></i></td>\n",
       "            <td class=\"param\">fit_intercept&nbsp;</td>\n",
       "            <td class=\"value\">True</td>\n",
       "        </tr>\n",
       "    \n",
       "\n",
       "        <tr class=\"default\">\n",
       "            <td><i class=\"copy-paste-icon\"\n",
       "                 onclick=\"copyToClipboard('copy_X',\n",
       "                          this.parentElement.nextElementSibling)\"\n",
       "            ></i></td>\n",
       "            <td class=\"param\">copy_X&nbsp;</td>\n",
       "            <td class=\"value\">True</td>\n",
       "        </tr>\n",
       "    \n",
       "\n",
       "        <tr class=\"default\">\n",
       "            <td><i class=\"copy-paste-icon\"\n",
       "                 onclick=\"copyToClipboard('tol',\n",
       "                          this.parentElement.nextElementSibling)\"\n",
       "            ></i></td>\n",
       "            <td class=\"param\">tol&nbsp;</td>\n",
       "            <td class=\"value\">1e-06</td>\n",
       "        </tr>\n",
       "    \n",
       "\n",
       "        <tr class=\"default\">\n",
       "            <td><i class=\"copy-paste-icon\"\n",
       "                 onclick=\"copyToClipboard('n_jobs',\n",
       "                          this.parentElement.nextElementSibling)\"\n",
       "            ></i></td>\n",
       "            <td class=\"param\">n_jobs&nbsp;</td>\n",
       "            <td class=\"value\">None</td>\n",
       "        </tr>\n",
       "    \n",
       "\n",
       "        <tr class=\"default\">\n",
       "            <td><i class=\"copy-paste-icon\"\n",
       "                 onclick=\"copyToClipboard('positive',\n",
       "                          this.parentElement.nextElementSibling)\"\n",
       "            ></i></td>\n",
       "            <td class=\"param\">positive&nbsp;</td>\n",
       "            <td class=\"value\">False</td>\n",
       "        </tr>\n",
       "    \n",
       "                  </tbody>\n",
       "                </table>\n",
       "            </details>\n",
       "        </div>\n",
       "    </div></div></div></div></div><script>function copyToClipboard(text, element) {\n",
       "    // Get the parameter prefix from the closest toggleable content\n",
       "    const toggleableContent = element.closest('.sk-toggleable__content');\n",
       "    const paramPrefix = toggleableContent ? toggleableContent.dataset.paramPrefix : '';\n",
       "    const fullParamName = paramPrefix ? `${paramPrefix}${text}` : text;\n",
       "\n",
       "    const originalStyle = element.style;\n",
       "    const computedStyle = window.getComputedStyle(element);\n",
       "    const originalWidth = computedStyle.width;\n",
       "    const originalHTML = element.innerHTML.replace('Copied!', '');\n",
       "\n",
       "    navigator.clipboard.writeText(fullParamName)\n",
       "        .then(() => {\n",
       "            element.style.width = originalWidth;\n",
       "            element.style.color = 'green';\n",
       "            element.innerHTML = \"Copied!\";\n",
       "\n",
       "            setTimeout(() => {\n",
       "                element.innerHTML = originalHTML;\n",
       "                element.style = originalStyle;\n",
       "            }, 2000);\n",
       "        })\n",
       "        .catch(err => {\n",
       "            console.error('Failed to copy:', err);\n",
       "            element.style.color = 'red';\n",
       "            element.innerHTML = \"Failed!\";\n",
       "            setTimeout(() => {\n",
       "                element.innerHTML = originalHTML;\n",
       "                element.style = originalStyle;\n",
       "            }, 2000);\n",
       "        });\n",
       "    return false;\n",
       "}\n",
       "\n",
       "document.querySelectorAll('.fa-regular.fa-copy').forEach(function(element) {\n",
       "    const toggleableContent = element.closest('.sk-toggleable__content');\n",
       "    const paramPrefix = toggleableContent ? toggleableContent.dataset.paramPrefix : '';\n",
       "    const paramName = element.parentElement.nextElementSibling.textContent.trim();\n",
       "    const fullParamName = paramPrefix ? `${paramPrefix}${paramName}` : paramName;\n",
       "\n",
       "    element.setAttribute('title', fullParamName);\n",
       "});\n",
       "</script></body>"
      ],
      "text/plain": [
       "LinearRegression()"
      ]
     },
     "execution_count": 10,
     "metadata": {},
     "output_type": "execute_result"
    }
   ],
   "source": [
    "from sklearn.linear_model import LinearRegression\n",
    "lr=LinearRegression()\n",
    "lr.fit(x_train,y_train)"
   ]
  },
  {
   "cell_type": "code",
   "execution_count": 11,
   "id": "1a2858e1-c805-493a-8b6e-a6d3807ecde9",
   "metadata": {},
   "outputs": [
    {
     "data": {
      "text/plain": [
       "np.float64(90.48829027159405)"
      ]
     },
     "execution_count": 11,
     "metadata": {},
     "output_type": "execute_result"
    }
   ],
   "source": [
    "#y=b1x1+b2x2+b0\n",
    "b0=lr.intercept_\n",
    "b=lr.coef_\n",
    "y=b[0]*18.39 + b[1]*71.38 + b0\n",
    "y"
   ]
  },
  {
   "cell_type": "code",
   "execution_count": 12,
   "id": "77735249-880c-47bb-b0a4-f11ee39b0d29",
   "metadata": {},
   "outputs": [],
   "source": [
    "import plotly.express as px\n",
    "import numpy as np\n",
    "import plotly.graph_objects as go"
   ]
  },
  {
   "cell_type": "code",
   "execution_count": 13,
   "id": "7750926e-2492-4648-97ec-56c48148031c",
   "metadata": {},
   "outputs": [
    {
     "data": {
      "application/vnd.plotly.v1+json": {
       "config": {
        "plotlyServerURL": "https://plot.ly"
       },
       "data": [
        {
         "hovertemplate": "Hours Studied=%{x}<br>Attendance Rate (%)=%{y}<br>Final Exam Score=%{z}<extra></extra>",
         "legendgroup": "",
         "marker": {
          "color": "#636efa",
          "symbol": "circle"
         },
         "mode": "markers",
         "name": "",
         "scene": "scene",
         "showlegend": false,
         "type": "scatter3d",
         "x": {
          "bdata": "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",
          "dtype": "f8"
         },
         "y": {
          "bdata": "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",
          "dtype": "f8"
         },
         "z": {
          "bdata": "tIrEJUMjVUDYRIc8GQFWQOxQyRAyoktACgK3MENhUkBxqhhbBtZUQEN9gQ8UhFNAg+JDYJcpTUC06aW1q31LQNvocyCxekdA5odbTz45SkDV/tZn8U5TQO6bd3MjvUpALmchxzdOWEBnIUsw5hNLQJ3sLJu1jFRAZt5ozz4mU0AMixcs0ZxFQEfNkXTRblJAcutFH7n/SUBjz0MS4i1ZQDa6GD2WDUhALewGXYT/SUCQU0ulZYNEQGL2T8P5UVZADzR29IVwUkDKygYEQHlSQPqLjwW73UBA6nxXiPeVVUA21Wp6lsRQQGNJFLWPPltABlxfPdGGTUC01sTAQmJFQNGRO/DayENAkIN1kFVlUkBES4F5hmJSQCSKHGSKbj1AzdHbhi7zVkCT7VPAA9ZPQCtKrge4MVBA+k8O0S6CT0Bbuwbgk+5QQCfbnw8/a01A6s88iDYsRUCpa+19qpNIQJTbOFo8YlRA5H1FTAPaU0ApO2DLaZJPQLsAqKAqvFFAmYxbs7K2VECURvVrpd9RQPZXdl62VUVA05zEOU1DSUCmXa9dGKFRQKYBD048FVFAYNB8rU92RECV48I/9CtFQAkKMOpilUhA3Scm83jkUkDNO9IJNttBQPPDzjVIgERAU4wct1IVVkD6DGYbUe9BQIvH4oqN9VRA+GSs09QGT0BKE+ePBnJGQBkePXZ+RkxAXAvMba+GV0CmiZAdyI5VQNlI6QT6nVZApg5uQgz/TkDwku6dx9lRQOWokrcSik1Ax7wrDmmKUECyItU9E+BXQBCK1h+bWklAqfbIamO0SUB1cHaMp8lLQHGDyo1cw0JAUjvsU8jzTEApfxAs+61TQH0aIGZpr1FAeGdpfme5VEB/K58GCB1WQIWYKpxNtVBAVo+oDsH5UEBfx0XWFqhFQNK4BYUgCFVA+FoKJ+2EQ0A8HivfUO1QQGyx/HU+blNAeuQPBh6YTkAXAaE3DS1SQNoxXLqV9FBAil02laBEWECdrnoCme5RQBoJ4Y8qNEVA3Bsy1BcjWkCTTX8XMp9TQBaSxHlV3ldAttOc3VYvVUC8tchN//hRQMD9qYY35EZAgoMHF7znT0DCArHPkDpLQLFgTSvmjFZAvZQ2LPgiSEDOL84IhHlNQI4cr2HC91NAR60Pb8bjWEDYSNBnGV9UQCJNglgyvENApV7ghz24UECe0sH6P69JQK65YeOT9FRAEHmqxyYvQ0D31H8QaIdUQN8bIvKGiUhA9K0oiK6qUEBGKikDCe5SQO7vKnMMdFdA5dW1zT+FQkAe40hv0SlLQFnG4SdpZkxA26c+63X2WUCs6ZM/zNNXQDKRFIkwC1BAk9Ar2GWgUkC7uGz4hihNQN3WUEkhBkZAgND+MBfuVEBkffshU7FMQFPTaFGjPUxAn6yc5nKBUUC6yzRQzyxAQOHeZyKNA0lA0XtC+pbQWEA+DbX5QZdCQCIe5FAa71RAYiTFETVcSED54O/2pKZQQOG3QtRUlUdAgmAjgzuoT0B0dODFkKBPQBrBxvVvzklAEttALm8dVEDI9u80+CVSQPlMk6XY4FdAGCe+2pHzVUC87d9IIq9UQAA9id8/cFBAsR85BFSUREAmNZPzbg1NQJEllDqYylFAY/hfGWFQQUCdAFhXJOdSQMICb7P+aFFAf9qHQJ54TUBtqQf1wiBTQNxnlZnSxz9AXmO4tsfEOEB0gNxVenhVQBixTwDFuVFA5WItukwgV0ArMhkSoIhLQAaJ5X05hU1Auqm7kT3fVEDRF853KHFWQN4HvYpOPlVAajqW0g6tT0Chn4jJRCxTQNGwWpF/jVBAzSAdonq9Q0DUCz7NCRRUQCLoYOSCz0FAveVmj4JEWEBf0KUsQVhRQGx/Xwos9ktAAV3q1iEUUkCAmZQndVtUQEsMPNaQuFNAq+3DzSvKVkC99x7LzkhSQFHY6hdRClJAsL7sZFG9VkALCVp5MOpEQGyy4xKJR1FADmHCiWS+REAzJN2FnDhZQPcEie3umFRArFnjQzu/R0B0MZs67rNOQIwxsI4jt1NA+M0WcwQHRUA4y/oHMONSQOcwRsEfXVdADX4sjpRIREDlLIk/jDZUQFayxk1Lb1BAPCw3xSHyV0B0qK6Vs75XQDofAVDD7lVASoYU6gbQTEBk+1YMU3xVQPmnr0IlmllA6OiG4BdkR0Cx0WK+tqNVQLT6NDhbckVAE8CkY5RmU0Du0E3uOc5MQE1ic4L0w0VAzh7kzOF+QUBi8LQlwDdSQE3XVXnpkkdA02yaTp2JVkACh+16q7s5QGTwB27qCUtAgzlyi5brUkDcBIzskj9SQMfWVJJMlE5A+5GFXKf7VUAzvau7xRFYQEDPsGICfFBAIXoxGMwgREAp6sw9JAE4QGB7wQKzd1ZA6wi357/oQkBEqO+ITJxTQKlFbbCqElNAwOY9SvzzVEBdEDbhg6tTQKgWtgtyEFpAfgWCYwP/UUCeXoz1i7pTQHvxybPgwVFAH4BYX7IaUUDZHXuLQT5TQM9LpLhT8lVA431mWqwgW0DYGEvDtlBUQPyDcQUOjlFAv9Vbf2IYUEAVNfuwXG5VQEZL9c8Zl0tAhnBQ60uoRkCNgfHjGpVIQMEr1UdYVkJA50otKTEzSECfvBtNJj5DQMjCQnM+0kZA6cSSMNvdQkA=",
          "dtype": "f8"
         }
        },
        {
         "colorscale": [
          [
           0,
           "#440154"
          ],
          [
           0.1111111111111111,
           "#482878"
          ],
          [
           0.2222222222222222,
           "#3e4989"
          ],
          [
           0.3333333333333333,
           "#31688e"
          ],
          [
           0.4444444444444444,
           "#26828e"
          ],
          [
           0.5555555555555556,
           "#1f9e89"
          ],
          [
           0.6666666666666666,
           "#35b779"
          ],
          [
           0.7777777777777778,
           "#6ece58"
          ],
          [
           0.8888888888888888,
           "#b5de2b"
          ],
          [
           1,
           "#fde725"
          ]
         ],
         "opacity": 0.6,
         "type": "surface",
         "x": {
          "bdata": "JBNx7DkmzD9Hd14PDk4DQK7u+j/cbBJAuaFGeLEyG0BiKklYQ/whQOcDb/QtXyZAbd2UkBjCKkDytrosAyUvQDtIcOT2wzFA/jSDMmz1M0A=",
          "dtype": "f8"
         },
         "y": {
          "bdata": "rG/DnN4oSUA+f1cTZelLQNCO64nrqU5AMs8/ADm1UED61ok7fBVSQMTe03a/dVNAjeYdsgLWVEBW7mftRTZWQB/2sSiJlldA6P37Y8z2WEA=",
          "dtype": "f8"
         },
         "z": {
          "bdata": "O62r35w9PEBytrbX+U5BQEeWlz8lf0RAHHZ4p1CvR0DxVVkPfN9KQMU1OnenD05AzYqNb+mfUEC4+n0j/zdSQKJqbtcU0FNAjNpeiypoVUCqW0YA8bM+QKoNBOgjikJAfu3kT0+6RUBTzcW3eupIQCitph+mGkxA/YyHh9FKT0BpNrR3fj1RQFSmpCuU1VJAPhaV36ltVEAohoWTvwVWQA2FcJAilUBA4mRR+E3FQ0C2RDJgefVGQIskE8ikJUpAYAT0L9BVTUAacurL/UJQQATi2n8T21FA8FHLMylzU0DawbvnPgtVQMQxrJtUo1ZARty9oEzQQUAavJ4IeABFQO+bf3CjMEhAxHtg2M5gS0CZW0FA+pBOQLYdEdSS4FBAoo0BiKh4UkCM/fE7vhBUQHZt4u/TqFVAYN3So+lAV0B8MwuxdgtDQFET7BiiO0ZAJfPMgM1rSUD60q3o+JtMQM+yjlAkzE9AUsk33Cd+UUA8OSiQPRZTQCapGERTrlRAEBkJ+GhGVkD8iPmrft5XQLWKWMGgRkRAimo5Kcx2R0BeShqR96ZKQDMq+/gi101ABAVuMKeDUEDudF7kvBtSQNjkTpjSs1NAxFQ/TOhLVUCuxC8A/uNWQJg0ILQTfFhA7eGl0cqBRUDCwYY59rFIQJahZ6Eh4ktAa4FICU0ST0CgsJQ4PCFRQIoghexRuVJAdJB1oGdRVEBgAGZUfelVQEpwVgiTgVdANOBGvKgZWUAlOfPh9LxGQPoY1Ekg7UlAzvi0sUsdTUBS7MqMuyZQQDxcu0DRvlFAJsyr9OZWU0AQPJyo/O5UQPyrjFwSh1ZA5ht9ECgfWEDQi23EPbdZQFyQQPIe+EdAMXAhWkooS0AFUALCdVhOQO2X8ZRQxFBA2AfiSGZcUkDCd9L8e/RTQKznwrCRjFVAllezZKckV0CAx6MYvbxYQGw3lMzSVFpAlOeNAkkzSUBpx25qdGNMQD2nT9Kfk09AikMYneVhUUB0swhR+/lSQF4j+QQRklRASJPpuCYqVkAyA9psPMJXQBxzyiBSWllACOO61GfyWkA=",
          "dtype": "f8",
          "shape": "10, 10"
         }
        }
       ],
       "layout": {
        "legend": {
         "tracegroupgap": 0
        },
        "margin": {
         "t": 60
        },
        "scene": {
         "domain": {
          "x": [
           0,
           1
          ],
          "y": [
           0,
           1
          ]
         },
         "xaxis": {
          "title": {
           "text": "Hours Studied"
          }
         },
         "yaxis": {
          "title": {
           "text": "Attendance Rate (%)"
          }
         },
         "zaxis": {
          "title": {
           "text": "Final Exam Score"
          }
         }
        },
        "template": {
         "data": {
          "bar": [
           {
            "error_x": {
             "color": "#2a3f5f"
            },
            "error_y": {
             "color": "#2a3f5f"
            },
            "marker": {
             "line": {
              "color": "#E5ECF6",
              "width": 0.5
             },
             "pattern": {
              "fillmode": "overlay",
              "size": 10,
              "solidity": 0.2
             }
            },
            "type": "bar"
           }
          ],
          "barpolar": [
           {
            "marker": {
             "line": {
              "color": "#E5ECF6",
              "width": 0.5
             },
             "pattern": {
              "fillmode": "overlay",
              "size": 10,
              "solidity": 0.2
             }
            },
            "type": "barpolar"
           }
          ],
          "carpet": [
           {
            "aaxis": {
             "endlinecolor": "#2a3f5f",
             "gridcolor": "white",
             "linecolor": "white",
             "minorgridcolor": "white",
             "startlinecolor": "#2a3f5f"
            },
            "baxis": {
             "endlinecolor": "#2a3f5f",
             "gridcolor": "white",
             "linecolor": "white",
             "minorgridcolor": "white",
             "startlinecolor": "#2a3f5f"
            },
            "type": "carpet"
           }
          ],
          "choropleth": [
           {
            "colorbar": {
             "outlinewidth": 0,
             "ticks": ""
            },
            "type": "choropleth"
           }
          ],
          "contour": [
           {
            "colorbar": {
             "outlinewidth": 0,
             "ticks": ""
            },
            "colorscale": [
             [
              0,
              "#0d0887"
             ],
             [
              0.1111111111111111,
              "#46039f"
             ],
             [
              0.2222222222222222,
              "#7201a8"
             ],
             [
              0.3333333333333333,
              "#9c179e"
             ],
             [
              0.4444444444444444,
              "#bd3786"
             ],
             [
              0.5555555555555556,
              "#d8576b"
             ],
             [
              0.6666666666666666,
              "#ed7953"
             ],
             [
              0.7777777777777778,
              "#fb9f3a"
             ],
             [
              0.8888888888888888,
              "#fdca26"
             ],
             [
              1,
              "#f0f921"
             ]
            ],
            "type": "contour"
           }
          ],
          "contourcarpet": [
           {
            "colorbar": {
             "outlinewidth": 0,
             "ticks": ""
            },
            "type": "contourcarpet"
           }
          ],
          "heatmap": [
           {
            "colorbar": {
             "outlinewidth": 0,
             "ticks": ""
            },
            "colorscale": [
             [
              0,
              "#0d0887"
             ],
             [
              0.1111111111111111,
              "#46039f"
             ],
             [
              0.2222222222222222,
              "#7201a8"
             ],
             [
              0.3333333333333333,
              "#9c179e"
             ],
             [
              0.4444444444444444,
              "#bd3786"
             ],
             [
              0.5555555555555556,
              "#d8576b"
             ],
             [
              0.6666666666666666,
              "#ed7953"
             ],
             [
              0.7777777777777778,
              "#fb9f3a"
             ],
             [
              0.8888888888888888,
              "#fdca26"
             ],
             [
              1,
              "#f0f921"
             ]
            ],
            "type": "heatmap"
           }
          ],
          "histogram": [
           {
            "marker": {
             "pattern": {
              "fillmode": "overlay",
              "size": 10,
              "solidity": 0.2
             }
            },
            "type": "histogram"
           }
          ],
          "histogram2d": [
           {
            "colorbar": {
             "outlinewidth": 0,
             "ticks": ""
            },
            "colorscale": [
             [
              0,
              "#0d0887"
             ],
             [
              0.1111111111111111,
              "#46039f"
             ],
             [
              0.2222222222222222,
              "#7201a8"
             ],
             [
              0.3333333333333333,
              "#9c179e"
             ],
             [
              0.4444444444444444,
              "#bd3786"
             ],
             [
              0.5555555555555556,
              "#d8576b"
             ],
             [
              0.6666666666666666,
              "#ed7953"
             ],
             [
              0.7777777777777778,
              "#fb9f3a"
             ],
             [
              0.8888888888888888,
              "#fdca26"
             ],
             [
              1,
              "#f0f921"
             ]
            ],
            "type": "histogram2d"
           }
          ],
          "histogram2dcontour": [
           {
            "colorbar": {
             "outlinewidth": 0,
             "ticks": ""
            },
            "colorscale": [
             [
              0,
              "#0d0887"
             ],
             [
              0.1111111111111111,
              "#46039f"
             ],
             [
              0.2222222222222222,
              "#7201a8"
             ],
             [
              0.3333333333333333,
              "#9c179e"
             ],
             [
              0.4444444444444444,
              "#bd3786"
             ],
             [
              0.5555555555555556,
              "#d8576b"
             ],
             [
              0.6666666666666666,
              "#ed7953"
             ],
             [
              0.7777777777777778,
              "#fb9f3a"
             ],
             [
              0.8888888888888888,
              "#fdca26"
             ],
             [
              1,
              "#f0f921"
             ]
            ],
            "type": "histogram2dcontour"
           }
          ],
          "mesh3d": [
           {
            "colorbar": {
             "outlinewidth": 0,
             "ticks": ""
            },
            "type": "mesh3d"
           }
          ],
          "parcoords": [
           {
            "line": {
             "colorbar": {
              "outlinewidth": 0,
              "ticks": ""
             }
            },
            "type": "parcoords"
           }
          ],
          "pie": [
           {
            "automargin": true,
            "type": "pie"
           }
          ],
          "scatter": [
           {
            "fillpattern": {
             "fillmode": "overlay",
             "size": 10,
             "solidity": 0.2
            },
            "type": "scatter"
           }
          ],
          "scatter3d": [
           {
            "line": {
             "colorbar": {
              "outlinewidth": 0,
              "ticks": ""
             }
            },
            "marker": {
             "colorbar": {
              "outlinewidth": 0,
              "ticks": ""
             }
            },
            "type": "scatter3d"
           }
          ],
          "scattercarpet": [
           {
            "marker": {
             "colorbar": {
              "outlinewidth": 0,
              "ticks": ""
             }
            },
            "type": "scattercarpet"
           }
          ],
          "scattergeo": [
           {
            "marker": {
             "colorbar": {
              "outlinewidth": 0,
              "ticks": ""
             }
            },
            "type": "scattergeo"
           }
          ],
          "scattergl": [
           {
            "marker": {
             "colorbar": {
              "outlinewidth": 0,
              "ticks": ""
             }
            },
            "type": "scattergl"
           }
          ],
          "scattermap": [
           {
            "marker": {
             "colorbar": {
              "outlinewidth": 0,
              "ticks": ""
             }
            },
            "type": "scattermap"
           }
          ],
          "scattermapbox": [
           {
            "marker": {
             "colorbar": {
              "outlinewidth": 0,
              "ticks": ""
             }
            },
            "type": "scattermapbox"
           }
          ],
          "scatterpolar": [
           {
            "marker": {
             "colorbar": {
              "outlinewidth": 0,
              "ticks": ""
             }
            },
            "type": "scatterpolar"
           }
          ],
          "scatterpolargl": [
           {
            "marker": {
             "colorbar": {
              "outlinewidth": 0,
              "ticks": ""
             }
            },
            "type": "scatterpolargl"
           }
          ],
          "scatterternary": [
           {
            "marker": {
             "colorbar": {
              "outlinewidth": 0,
              "ticks": ""
             }
            },
            "type": "scatterternary"
           }
          ],
          "surface": [
           {
            "colorbar": {
             "outlinewidth": 0,
             "ticks": ""
            },
            "colorscale": [
             [
              0,
              "#0d0887"
             ],
             [
              0.1111111111111111,
              "#46039f"
             ],
             [
              0.2222222222222222,
              "#7201a8"
             ],
             [
              0.3333333333333333,
              "#9c179e"
             ],
             [
              0.4444444444444444,
              "#bd3786"
             ],
             [
              0.5555555555555556,
              "#d8576b"
             ],
             [
              0.6666666666666666,
              "#ed7953"
             ],
             [
              0.7777777777777778,
              "#fb9f3a"
             ],
             [
              0.8888888888888888,
              "#fdca26"
             ],
             [
              1,
              "#f0f921"
             ]
            ],
            "type": "surface"
           }
          ],
          "table": [
           {
            "cells": {
             "fill": {
              "color": "#EBF0F8"
             },
             "line": {
              "color": "white"
             }
            },
            "header": {
             "fill": {
              "color": "#C8D4E3"
             },
             "line": {
              "color": "white"
             }
            },
            "type": "table"
           }
          ]
         },
         "layout": {
          "annotationdefaults": {
           "arrowcolor": "#2a3f5f",
           "arrowhead": 0,
           "arrowwidth": 1
          },
          "autotypenumbers": "strict",
          "coloraxis": {
           "colorbar": {
            "outlinewidth": 0,
            "ticks": ""
           }
          },
          "colorscale": {
           "diverging": [
            [
             0,
             "#8e0152"
            ],
            [
             0.1,
             "#c51b7d"
            ],
            [
             0.2,
             "#de77ae"
            ],
            [
             0.3,
             "#f1b6da"
            ],
            [
             0.4,
             "#fde0ef"
            ],
            [
             0.5,
             "#f7f7f7"
            ],
            [
             0.6,
             "#e6f5d0"
            ],
            [
             0.7,
             "#b8e186"
            ],
            [
             0.8,
             "#7fbc41"
            ],
            [
             0.9,
             "#4d9221"
            ],
            [
             1,
             "#276419"
            ]
           ],
           "sequential": [
            [
             0,
             "#0d0887"
            ],
            [
             0.1111111111111111,
             "#46039f"
            ],
            [
             0.2222222222222222,
             "#7201a8"
            ],
            [
             0.3333333333333333,
             "#9c179e"
            ],
            [
             0.4444444444444444,
             "#bd3786"
            ],
            [
             0.5555555555555556,
             "#d8576b"
            ],
            [
             0.6666666666666666,
             "#ed7953"
            ],
            [
             0.7777777777777778,
             "#fb9f3a"
            ],
            [
             0.8888888888888888,
             "#fdca26"
            ],
            [
             1,
             "#f0f921"
            ]
           ],
           "sequentialminus": [
            [
             0,
             "#0d0887"
            ],
            [
             0.1111111111111111,
             "#46039f"
            ],
            [
             0.2222222222222222,
             "#7201a8"
            ],
            [
             0.3333333333333333,
             "#9c179e"
            ],
            [
             0.4444444444444444,
             "#bd3786"
            ],
            [
             0.5555555555555556,
             "#d8576b"
            ],
            [
             0.6666666666666666,
             "#ed7953"
            ],
            [
             0.7777777777777778,
             "#fb9f3a"
            ],
            [
             0.8888888888888888,
             "#fdca26"
            ],
            [
             1,
             "#f0f921"
            ]
           ]
          },
          "colorway": [
           "#636efa",
           "#EF553B",
           "#00cc96",
           "#ab63fa",
           "#FFA15A",
           "#19d3f3",
           "#FF6692",
           "#B6E880",
           "#FF97FF",
           "#FECB52"
          ],
          "font": {
           "color": "#2a3f5f"
          },
          "geo": {
           "bgcolor": "white",
           "lakecolor": "white",
           "landcolor": "#E5ECF6",
           "showlakes": true,
           "showland": true,
           "subunitcolor": "white"
          },
          "hoverlabel": {
           "align": "left"
          },
          "hovermode": "closest",
          "mapbox": {
           "style": "light"
          },
          "paper_bgcolor": "white",
          "plot_bgcolor": "#E5ECF6",
          "polar": {
           "angularaxis": {
            "gridcolor": "white",
            "linecolor": "white",
            "ticks": ""
           },
           "bgcolor": "#E5ECF6",
           "radialaxis": {
            "gridcolor": "white",
            "linecolor": "white",
            "ticks": ""
           }
          },
          "scene": {
           "xaxis": {
            "backgroundcolor": "#E5ECF6",
            "gridcolor": "white",
            "gridwidth": 2,
            "linecolor": "white",
            "showbackground": true,
            "ticks": "",
            "zerolinecolor": "white"
           },
           "yaxis": {
            "backgroundcolor": "#E5ECF6",
            "gridcolor": "white",
            "gridwidth": 2,
            "linecolor": "white",
            "showbackground": true,
            "ticks": "",
            "zerolinecolor": "white"
           },
           "zaxis": {
            "backgroundcolor": "#E5ECF6",
            "gridcolor": "white",
            "gridwidth": 2,
            "linecolor": "white",
            "showbackground": true,
            "ticks": "",
            "zerolinecolor": "white"
           }
          },
          "shapedefaults": {
           "line": {
            "color": "#2a3f5f"
           }
          },
          "ternary": {
           "aaxis": {
            "gridcolor": "white",
            "linecolor": "white",
            "ticks": ""
           },
           "baxis": {
            "gridcolor": "white",
            "linecolor": "white",
            "ticks": ""
           },
           "bgcolor": "#E5ECF6",
           "caxis": {
            "gridcolor": "white",
            "linecolor": "white",
            "ticks": ""
           }
          },
          "title": {
           "x": 0.05
          },
          "xaxis": {
           "automargin": true,
           "gridcolor": "white",
           "linecolor": "white",
           "ticks": "",
           "title": {
            "standoff": 15
           },
           "zerolinecolor": "white",
           "zerolinewidth": 2
          },
          "yaxis": {
           "automargin": true,
           "gridcolor": "white",
           "linecolor": "white",
           "ticks": "",
           "title": {
            "standoff": 15
           },
           "zerolinecolor": "white",
           "zerolinewidth": 2
          }
         }
        }
       }
      }
     },
     "metadata": {},
     "output_type": "display_data"
    }
   ],
   "source": [
    "x_values = np.linspace(df['Hours Studied'].min(),\n",
    "                       df['Hours Studied'].max(), 10)\n",
    "y_values = np.linspace(df['Attendance Rate (%)'].min(),\n",
    "                       df['Attendance Rate (%)'].max(), 10)\n",
    "xGrid, yGrid = np.meshgrid(x_values, y_values)\n",
    "\n",
    "\n",
    "final = pd.DataFrame({\n",
    "    \"Hours Studied\": xGrid.ravel(),\n",
    "    \"Attendance Rate (%)\": yGrid.ravel()\n",
    "})\n",
    "z_final = lr.predict(final).reshape(10, 10)\n",
    "fig = px.scatter_3d(df, x='Hours Studied', \n",
    "                    y='Attendance Rate (%)', z='Final Exam Score')\n",
    "fig.add_trace(go.Surface(x=x_values, y=y_values, z=z_final, \n",
    "                         colorscale=\"Viridis\", opacity=0.6))\n",
    "\n",
    "fig.show()"
   ]
  },
  {
   "cell_type": "code",
   "execution_count": 14,
   "id": "f0be0492-785d-4b1f-a9bb-592adfff82fe",
   "metadata": {},
   "outputs": [],
   "source": [
    "import joblib"
   ]
  },
  {
   "cell_type": "code",
   "execution_count": 16,
   "id": "32e463a9-d319-494f-b36d-b123c4d76310",
   "metadata": {},
   "outputs": [
    {
     "data": {
      "text/plain": [
       "['Score_predict.joblib']"
      ]
     },
     "execution_count": 16,
     "metadata": {},
     "output_type": "execute_result"
    }
   ],
   "source": [
    "joblib.dump(lr,\"Score_predict.joblib\")"
   ]
  },
  {
   "cell_type": "code",
   "execution_count": null,
   "id": "153b6c48-c777-4c16-8a58-3213bb81da96",
   "metadata": {},
   "outputs": [],
   "source": []
  },
  {
   "cell_type": "code",
   "execution_count": null,
   "id": "232f67dd",
   "metadata": {},
   "outputs": [],
   "source": []
  }
 ],
 "metadata": {
  "kernelspec": {
   "display_name": "Python 3",
   "language": "python",
   "name": "python3"
  },
  "language_info": {
   "codemirror_mode": {
    "name": "ipython",
    "version": 3
   },
   "file_extension": ".py",
   "mimetype": "text/x-python",
   "name": "python",
   "nbconvert_exporter": "python",
   "pygments_lexer": "ipython3",
   "version": "3.12.9"
  }
 },
 "nbformat": 4,
 "nbformat_minor": 5
}
